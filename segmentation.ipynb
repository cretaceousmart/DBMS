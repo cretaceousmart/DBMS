{
 "cells": [
  {
   "cell_type": "code",
   "execution_count": null,
   "metadata": {},
   "outputs": [],
   "source": [
    "from tqdm.notebook import tqdm\n",
    "\n",
    "import pandas as pd\n",
    "import numpy as np\n",
    "\n",
    "import pytorch_lightning as pl\n",
    "from pitchclass2vec import encoding, model\n",
    "from pitchclass2vec.pitchclass2vec import Pitchclass2VecModel\n",
    "from tasks.segmentation.data import BillboardDataset, SegmentationDataModule\n",
    "from tasks.segmentation.functional import LSTMBaselineModel\n",
    "\n",
    "from evaluate import load_pitchclass2vec_model\n",
    "\n",
    "RANDOM_SEED = 42\n",
    "pl.seed_everything(seed=RANDOM_SEED)\n",
    "print(\"done\")"
   ]
  },
  {
   "cell_type": "code",
   "execution_count": 30,
   "metadata": {},
   "outputs": [],
   "source": [
    "# https://jams.readthedocs.io/en/stable/generated/jams.load.html\n",
    "# len(jam.annotations) 为 3: ['chord_harte', 'key_mode', 'timesig']\n",
    "\n",
    "import jams\n",
    "path = \"/app/choco_dataset/v1.0.0/jams/ireal-pro_1941.jams\"\n",
    "jam = jams.load(path,validate=False)\n",
    "namespaces = [ str(a.namespace) for a in jam.annotations ]\n",
    "chord_namespace = \"chord_harte\" if \"chord_harte\" in namespaces else \"chord\"\n",
    "\n",
    "target_annotation_idx = namespaces.index(chord_namespace)\n",
    "annotation = jam.annotations[target_annotation_idx]\n",
    "\n"
   ]
  },
  {
   "cell_type": "code",
   "execution_count": 31,
   "metadata": {},
   "outputs": [],
   "source": []
  },
  {
   "cell_type": "code",
   "execution_count": null,
   "metadata": {},
   "outputs": [],
   "source": []
  },
  {
   "cell_type": "markdown",
   "metadata": {},
   "source": [
    "## Train"
   ]
  },
  {
   "cell_type": "code",
   "execution_count": null,
   "metadata": {},
   "outputs": [],
   "source": [
    "import os\n",
    "\n",
    "import pitchclass2vec.model as model\n",
    "import pitchclass2vec.encoding as encoding\n",
    "from pitchclass2vec.data import ChocoDataModule\n",
    "\n",
    "train_args = {\n",
    "    'choco_arg': \"/app/choco_dataset/v1.0.0/\",\n",
    "    'out_arg': \"/app/out\",\n",
    "    'encoding_arg': \"root-interval\",\n",
    "    'model_arg': \"fasttext\"\n",
    "}\n",
    "\n",
    "import os\n",
    "# 设置环境变量，选择选项3（不适用WandB账户）\n",
    "os.environ[\"WANDB_MODE\"] = \"disabled\"\n",
    "\n",
    "print(\"done\")"
   ]
  },
  {
   "cell_type": "code",
   "execution_count": null,
   "metadata": {},
   "outputs": [],
   "source": [
    "choco_arg = train_args['choco_arg']\n",
    "out_arg = train_args['out_arg']\n",
    "encoding_arg = train_args['encoding_arg']\n",
    "model_arg = train_args['model_arg']\n",
    "\n",
    "command = f\"python /app/train.py --choco {choco_arg} --out {out_arg} --encoding {encoding_arg} --model {model_arg}\"\n",
    "print(command)\n"
   ]
  },
  {
   "cell_type": "code",
   "execution_count": null,
   "metadata": {},
   "outputs": [],
   "source": [
    "!{command}\n",
    "print(\"done\")"
   ]
  },
  {
   "cell_type": "markdown",
   "metadata": {},
   "source": [
    "# Segmentation baseline"
   ]
  },
  {
   "cell_type": "code",
   "execution_count": null,
   "metadata": {},
   "outputs": [],
   "source": [
    "EXP = [\n",
    "    #(\"text\", \"fasttext\", \"out/fasttext_best/model.ckpt\"),\n",
    "    (\"timed-root-interval\", \"emb-weighted-fasttext\", \"out/rootinterval_best/model.ckpt\"),\n",
    "    #(\"rdf\", \"randomwalk-rdf2vec\", \"out/rdf2vec_best/model.ckpt\"),\n",
    "]\n",
    "\n",
    "  \n",
    "experiments_df = pd.DataFrame(columns=[\n",
    "    \"encoding\", \"model\", \"path\", \"test_p_precision\", \"test_p_recall\",  \"test_p_f1\",  \"test_under\",  \"test_over\",  \"test_under_over_f1\"\n",
    "])"
   ]
  },
  {
   "cell_type": "code",
   "execution_count": null,
   "metadata": {},
   "outputs": [],
   "source": [
    "import logging\n",
    "logging.disable(logging.CRITICAL)\n",
    "\n",
    "\n",
    "for exp in tqdm(EXP):    \n",
    "    p2v = load_pitchclass2vec_model(*exp)\n",
    "    data = SegmentationDataModule(BillboardDataset, p2v, 256)\n",
    "        \n",
    "    lstm_model = LSTMBaselineModel(embedding_dim=p2v.vector_size, hidden_size=256, num_layers=5, dropout=0.2, learning_rate=0.001)\n",
    "    trainer = pl.Trainer(max_epochs=150, accelerator=\"auto\", devices=1,\n",
    "                         enable_progress_bar=False)\n",
    "    trainer.fit(lstm_model, data)\n",
    "    test_metrics = trainer.test(lstm_model, data)\n",
    "    experiments_df = experiments_df.append({\n",
    "        \"encoding\": exp[0], \"model\": exp[1], \"path\": exp[2],\n",
    "        **test_metrics[0]\n",
    "    }, ignore_index=True)"
   ]
  },
  {
   "cell_type": "code",
   "execution_count": null,
   "metadata": {},
   "outputs": [],
   "source": [
    "experiments_df"
   ]
  }
 ],
 "metadata": {
  "interpreter": {
   "hash": "1a065321f2d93fd20f60a317fd78c7406ef3cd4260c4249e728d2806e6b26b96"
  },
  "kernelspec": {
   "display_name": "Python 3 (ipykernel)",
   "language": "python",
   "name": "python3"
  },
  "language_info": {
   "codemirror_mode": {
    "name": "ipython",
    "version": 3
   },
   "file_extension": ".py",
   "mimetype": "text/x-python",
   "name": "python",
   "nbconvert_exporter": "python",
   "pygments_lexer": "ipython3",
   "version": "3.9.18"
  }
 },
 "nbformat": 4,
 "nbformat_minor": 4
}
