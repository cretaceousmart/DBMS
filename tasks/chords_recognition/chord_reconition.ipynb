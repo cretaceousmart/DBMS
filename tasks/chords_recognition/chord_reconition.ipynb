{
 "cells": [
  {
   "cell_type": "markdown",
   "metadata": {},
   "source": [
    "## Use Madmom for Chords Recognition"
   ]
  },
  {
   "cell_type": "code",
   "execution_count": null,
   "metadata": {},
   "outputs": [],
   "source": [
    "# Install python libray (TODO: Add to requirement.txt for Docker)\n",
    "\n",
    "# pip install pandas==1.3.5\n",
    "# pip install numpy==1.19.5\n",
    "# pip install scipy==1.10\n",
    "# pip install matplotlib==3.6\n",
    "# pip install madmom\n",
    "\n",
    "# install ffmpeg on Ubuntu\n",
    "# apt update\n",
    "# apt install ffmpeg"
   ]
  },
  {
   "cell_type": "code",
   "execution_count": null,
   "metadata": {},
   "outputs": [],
   "source": [
    "from tqdm.notebook import tqdm\n",
    "\n",
    "import pandas as pd\n",
    "import numpy as np\n",
    "import pytorch_lightning as pl\n",
    "from scipy.spatial.distance import cosine\n",
    "\n",
    "import sys\n",
    "sys.path.insert(0, '/app')\n",
    "from evaluate import load_pitchclass2vec_model\n",
    "\n",
    "from collections import defaultdict\n",
    "from itertools import groupby\n",
    "import re\n",
    "\n",
    "print(\"done\")\n",
    "RANDOM_SEED = 42\n",
    "pl.seed_everything(seed=RANDOM_SEED)"
   ]
  },
  {
   "cell_type": "code",
   "execution_count": 7,
   "metadata": {},
   "outputs": [
    {
     "name": "stdout",
     "output_type": "stream",
     "text": [
      "done\n"
     ]
    }
   ],
   "source": [
    "# 导入所需的模块\n",
    "import numpy as np\n",
    "from madmom.features.chords import CNNChordFeatureProcessor, CRFChordRecognitionProcessor\n",
    "from madmom.processors import SequentialProcessor\n",
    "\n",
    "\n",
    "# 创建一个特征提取器实例\n",
    "feature_processor = CNNChordFeatureProcessor()\n",
    "\n",
    "# 创建一个和弦识别器实例\n",
    "chord_recognizer = CRFChordRecognitionProcessor()\n",
    "\n",
    "# 将两个处理器串联成一个序列处理器\n",
    "sequential_processor = SequentialProcessor([feature_processor, chord_recognizer])\n",
    "\n",
    "\n",
    "print(\"done\")"
   ]
  },
  {
   "cell_type": "code",
   "execution_count": 8,
   "metadata": {},
   "outputs": [
    {
     "name": "stdout",
     "output_type": "stream",
     "text": [
      "Start: 0.00, End: 1.00, Chord: N\n",
      "Start: 1.00, End: 2.30, Chord: F:min\n",
      "Start: 2.30, End: 8.40, Chord: C#:maj\n",
      "Start: 8.40, End: 9.50, Chord: F:min\n",
      "Start: 9.50, End: 15.40, Chord: C#:maj\n",
      "Start: 15.40, End: 16.40, Chord: F:min\n",
      "Start: 16.40, End: 16.80, Chord: G#:maj\n",
      "Start: 16.80, End: 20.10, Chord: C#:maj\n",
      "Start: 20.10, End: 20.90, Chord: G#:maj\n",
      "Start: 20.90, End: 21.80, Chord: A#:min\n",
      "Start: 21.80, End: 22.40, Chord: D#:maj\n",
      "Start: 22.40, End: 23.50, Chord: F:min\n",
      "Start: 23.50, End: 23.90, Chord: G#:maj\n",
      "Start: 23.90, End: 28.90, Chord: C#:maj\n",
      "Start: 28.90, End: 29.70, Chord: G#:maj\n",
      "Start: 29.70, End: 30.60, Chord: F:min\n",
      "Start: 30.60, End: 31.10, Chord: G#:maj\n",
      "Start: 31.10, End: 36.10, Chord: C#:maj\n",
      "Start: 36.10, End: 37.10, Chord: D#:maj\n",
      "Start: 37.10, End: 38.30, Chord: F:min\n",
      "Start: 38.30, End: 44.30, Chord: C#:maj\n",
      "Start: 44.30, End: 45.30, Chord: F:min\n",
      "Start: 45.30, End: 55.80, Chord: C#:maj\n",
      "Start: 55.80, End: 58.70, Chord: N\n",
      "Start: 58.70, End: 59.80, Chord: F:min\n",
      "Start: 59.80, End: 65.70, Chord: C#:maj\n",
      "Start: 65.70, End: 67.80, Chord: F:min\n",
      "Start: 67.80, End: 70.40, Chord: C#:maj\n",
      "Start: 70.40, End: 72.70, Chord: N\n",
      "Start: 72.70, End: 74.20, Chord: F:maj\n",
      "Start: 74.20, End: 75.20, Chord: G#:maj\n",
      "Start: 75.20, End: 76.70, Chord: C#:maj\n",
      "Start: 76.70, End: 79.30, Chord: N\n",
      "Start: 79.30, End: 81.20, Chord: F:maj\n",
      "Start: 81.20, End: 83.90, Chord: C#:maj\n",
      "Start: 83.90, End: 86.20, Chord: N\n",
      "Start: 86.20, End: 87.60, Chord: D#:maj\n",
      "Start: 87.60, End: 94.40, Chord: C#:maj\n",
      "Start: 94.40, End: 96.60, Chord: F:min\n",
      "Start: 96.60, End: 98.90, Chord: C#:maj\n",
      "Start: 98.90, End: 101.10, Chord: N\n",
      "Start: 101.10, End: 102.80, Chord: G#:maj\n",
      "Start: 102.80, End: 107.70, Chord: C#:maj\n",
      "Start: 107.70, End: 108.40, Chord: D#:maj\n",
      "Start: 108.40, End: 109.40, Chord: F:min\n",
      "Start: 109.40, End: 109.90, Chord: G#:maj\n",
      "Start: 109.90, End: 114.80, Chord: C#:maj\n",
      "Start: 114.80, End: 115.70, Chord: G#:maj\n",
      "Start: 115.70, End: 117.00, Chord: F:min\n",
      "Start: 117.00, End: 122.30, Chord: C#:maj\n",
      "Start: 122.30, End: 122.90, Chord: D#:maj\n",
      "Start: 122.90, End: 124.40, Chord: G#:maj\n",
      "Start: 124.40, End: 129.20, Chord: C#:maj\n",
      "Start: 129.20, End: 129.80, Chord: N\n",
      "Start: 129.80, End: 130.30, Chord: F:maj\n",
      "Start: 130.30, End: 131.20, Chord: F:min\n",
      "Start: 131.20, End: 136.40, Chord: C#:maj\n",
      "Start: 136.40, End: 137.40, Chord: D#:maj\n",
      "Start: 137.40, End: 138.20, Chord: F:maj\n",
      "Start: 138.20, End: 143.20, Chord: C#:maj\n",
      "Start: 143.20, End: 144.70, Chord: N\n",
      "Start: 144.70, End: 146.50, Chord: F:min\n",
      "Start: 146.50, End: 150.30, Chord: C#:maj\n",
      "Start: 150.30, End: 150.80, Chord: D:min\n",
      "Start: 150.80, End: 152.60, Chord: C#:maj\n",
      "Start: 152.60, End: 153.90, Chord: G#:maj\n",
      "Start: 153.90, End: 157.40, Chord: C#:maj\n",
      "Start: 157.40, End: 157.70, Chord: D:min\n",
      "Start: 157.70, End: 158.70, Chord: N\n",
      "Start: 158.70, End: 159.60, Chord: D#:maj\n",
      "Start: 159.60, End: 160.70, Chord: G#:maj\n",
      "Start: 160.70, End: 165.30, Chord: C#:maj\n",
      "Start: 165.30, End: 167.60, Chord: N\n",
      "Start: 167.60, End: 170.80, Chord: C#:maj\n",
      "Start: 170.80, End: 173.30, Chord: N\n",
      "Start: 173.30, End: 174.20, Chord: F:min\n",
      "Start: 174.20, End: 178.20, Chord: C#:maj\n",
      "Start: 178.20, End: 179.30, Chord: F:min\n",
      "Start: 179.30, End: 180.50, Chord: N\n",
      "Start: 180.50, End: 182.40, Chord: F:min\n",
      "Start: 182.40, End: 186.60, Chord: C#:maj\n",
      "Start: 186.60, End: 188.80, Chord: F:min\n",
      "Start: 188.80, End: 192.00, Chord: C#:maj\n",
      "Start: 192.00, End: 192.70, Chord: G#:maj\n",
      "Start: 192.70, End: 193.60, Chord: C#:maj\n",
      "Start: 193.60, End: 194.40, Chord: D#:maj\n",
      "Start: 194.40, End: 195.80, Chord: F:min\n",
      "Start: 195.80, End: 200.80, Chord: C#:maj\n",
      "Start: 200.80, End: 201.60, Chord: G#:maj\n",
      "Start: 201.60, End: 202.50, Chord: F:min\n",
      "Start: 202.50, End: 203.00, Chord: G#:maj\n",
      "Start: 203.00, End: 208.90, Chord: C#:maj\n",
      "Start: 208.90, End: 210.20, Chord: F:min\n",
      "Start: 210.20, End: 216.00, Chord: C#:maj\n",
      "Start: 216.00, End: 217.30, Chord: F:min\n",
      "Start: 217.30, End: 223.20, Chord: C#:maj\n",
      "Start: 223.20, End: 224.30, Chord: F:min\n",
      "Start: 224.30, End: 228.80, Chord: C#:maj\n",
      "Start: 228.80, End: 229.90, Chord: N\n",
      "Start: 229.90, End: 232.30, Chord: F:min\n",
      "Start: 232.30, End: 235.90, Chord: C#:maj\n",
      "Start: 235.90, End: 238.70, Chord: F:min\n",
      "Start: 238.70, End: 239.40, Chord: G#:maj\n",
      "Start: 239.40, End: 240.30, Chord: C#:min\n",
      "Start: 240.30, End: 242.30, Chord: C#:maj\n",
      "Start: 242.30, End: 244.00, Chord: N\n",
      "Start: 244.00, End: 246.00, Chord: F:min\n",
      "Start: 246.00, End: 251.90, Chord: C#:maj\n",
      "Start: 251.90, End: 253.00, Chord: F:min\n",
      "Start: 253.00, End: 257.80, Chord: G#:maj\n",
      "Start: 257.80, End: 258.60, Chord: N\n",
      "Start: 258.60, End: 261.60, Chord: F:min\n",
      "Start: 261.60, End: 263.80, Chord: C#:maj\n",
      "Start: 263.80, End: 264.40, Chord: A#:maj\n",
      "Start: 264.40, End: 265.90, Chord: F:min\n",
      "Start: 265.90, End: 266.40, Chord: C#:maj\n",
      "Start: 266.40, End: 267.50, Chord: G#:maj\n",
      "Start: 267.50, End: 273.20, Chord: C#:maj\n",
      "Start: 273.20, End: 274.50, Chord: F:min\n",
      "Start: 274.50, End: 279.70, Chord: C#:maj\n",
      "Start: 279.70, End: 280.90, Chord: D#:maj\n",
      "Start: 280.90, End: 281.40, Chord: F:min\n",
      "Start: 281.40, End: 281.90, Chord: G#:maj\n",
      "Start: 281.90, End: 287.50, Chord: C#:maj\n",
      "Start: 287.50, End: 288.40, Chord: F:min\n",
      "Start: 288.40, End: 289.00, Chord: G#:maj\n",
      "Start: 289.00, End: 294.00, Chord: C#:maj\n",
      "Start: 294.00, End: 295.10, Chord: D#:maj\n",
      "Start: 295.10, End: 296.30, Chord: G#:maj\n",
      "Start: 296.30, End: 301.40, Chord: C#:maj\n",
      "Start: 301.40, End: 302.40, Chord: D#:maj\n",
      "Start: 302.40, End: 310.40, Chord: N\n",
      "done\n"
     ]
    }
   ],
   "source": [
    "# 音频文件路径\n",
    "audio_file = r\"/Users/jie/dev/DBMS/jie_test_music/Bitch_Dont_Kill_My_Vibe.mp3\"\n",
    "# 应用处理器到音频文件上，识别和弦\n",
    "chords = sequential_processor(audio_file)   \n",
    "\n",
    "for chord in chords:\n",
    "    start, end, label = chord\n",
    "    print(f\"Start: {start:.2f}, End: {end:.2f}, Chord: {label}\")\n",
    "\n",
    "print(\"done\")"
   ]
  },
  {
   "cell_type": "code",
   "execution_count": 9,
   "metadata": {},
   "outputs": [
    {
     "name": "stdout",
     "output_type": "stream",
     "text": [
      "<class 'numpy.ndarray'>\n",
      "(132,)\n"
     ]
    }
   ],
   "source": [
    "print(type(chords))\n",
    "print(chords.shape)"
   ]
  },
  {
   "cell_type": "code",
   "execution_count": 4,
   "metadata": {},
   "outputs": [],
   "source": [
    "# Obtain the Chroma of a song\n",
    "# https://madmom.readthedocs.io/en/v0.16/_modules/madmom/audio/chroma.html#DeepChromaProcessor\n",
    "# from madmom.audio.chroma.DeepChromaProcessor import DeepChromaProcessor\n",
    "from madmom.audio.chroma import DeepChromaProcessor\n",
    "dcp = DeepChromaProcessor()\n",
    "audio_file = r\"/Users/jie/dev/DBMS/jie_test_music/Bitch_Dont_Kill_My_Vibe.mp3\"\n",
    "chroma = dcp(audio_file)"
   ]
  },
  {
   "cell_type": "code",
   "execution_count": 5,
   "metadata": {},
   "outputs": [
    {
     "name": "stdout",
     "output_type": "stream",
     "text": [
      "<class 'numpy.ndarray'>\n",
      "(3104, 12)\n"
     ]
    }
   ],
   "source": [
    "print(type(chroma))\n",
    "print(chroma.shape)"
   ]
  },
  {
   "cell_type": "code",
   "execution_count": null,
   "metadata": {},
   "outputs": [],
   "source": []
  },
  {
   "cell_type": "code",
   "execution_count": null,
   "metadata": {},
   "outputs": [],
   "source": []
  },
  {
   "cell_type": "code",
   "execution_count": null,
   "metadata": {},
   "outputs": [],
   "source": []
  },
  {
   "cell_type": "code",
   "execution_count": null,
   "metadata": {},
   "outputs": [],
   "source": [
    "# print the info of chords array\n",
    "print(len(chords))\n",
    "print(type(chords))\n",
    "print(chords[0:3])"
   ]
  },
  {
   "cell_type": "code",
   "execution_count": null,
   "metadata": {},
   "outputs": [],
   "source": [
    "from pitchclass2vec.pitchclass2vec import NaiveEmbeddingModel\n",
    "from pitchclass2vec import encoding, model\n",
    "\n",
    "encoder = encoding.RootIntervalDataset\n",
    "embedding_model = NaiveEmbeddingModel(\n",
    "                        encoding_model=encoder, \n",
    "                        embedding_dim=3, # dim=3 because each '24 basic chords' only contain 3 notes\n",
    "                        norm=False)\n",
    "\n",
    " "
   ]
  },
  {
   "cell_type": "code",
   "execution_count": null,
   "metadata": {},
   "outputs": [],
   "source": [
    "# from tasks.segmentation.functional import LSTMBaselineModel\n",
    "from tasks.segmentation.deeplearning_models.lstm import LSTMBaselineModel\n",
    "import torch \n",
    "\n",
    "# Embed the chord by embedding model (store in /out)\n",
    "def embed_chord(p2v, c):\n",
    "    try:\n",
    "        return p2v[c]\n",
    "    except:\n",
    "        return p2v[\"N\"]\n",
    "\n",
    "# Load the pre-trained embedding model\n",
    "# p2v = load_pitchclass2vec_model(\"root-interval\", \"fasttext\", \"/app/out/root_interval_best/root-interval-fasttext-with-Processed-ChoCo.ckpt\")\n",
    "print(\"done: loaded the model\")\n",
    "\n",
    "# Load the pre-trained LSTM model for prediction:\n",
    "CKPT_PATH = '/app/segmentation_out/18_run.ckpt'\n",
    "model = LSTMBaselineModel.load_from_checkpoint(CKPT_PATH)\n",
    "\n",
    "# Obtain the embedded chords \n",
    "chords_str = [chord[2] for chord in chords]\n",
    "corpus_embedded = np.stack([\n",
    "    np.mean(np.array([embed_chord(embedding_model, c) for c in x]), axis=0) for x in chords\n",
    "])\n",
    "\n",
    "print(f\"corpus_embedded.shape: {corpus_embedded.shape}\",end='\\n')\n",
    "\n",
    "\n",
    "# Obtain correct input format: add a batchsize on the first position\n",
    "corpus_embedded = torch.tensor(corpus_embedded).unsqueeze(0)\n",
    "print(f\"corpus_embedded.shape: {corpus_embedded.shape}\",end='\\n')\n",
    "# ------------------------------------------------------------------------------------------------------------\n",
    "\n",
    "# Evalutaion mode and  Move to GPU\n",
    "model.eval() \n",
    "device = torch.device('cuda' if torch.cuda.is_available() else 'cpu')\n",
    "model = model.to(device)\n",
    "corpus_embedded = corpus_embedded.float().to(device) # change float(float 64) into double(float32)\n",
    "\n",
    "\n",
    "\n",
    "# Prediction: will return (x,y), x is result after classification(x), y is x after softmax(x)\n",
    "with torch.no_grad():\n",
    "    predictions = model.evaluation_forward(corpus_embedded)\n",
    "\n",
    "print(f\"Prediction shape: {predictions[1].shape}\")\n",
    "\n"
   ]
  },
  {
   "cell_type": "code",
   "execution_count": null,
   "metadata": {},
   "outputs": [],
   "source": [
    "predicted_labels = torch.argmax(predictions[1], dim=-1)  # shape will be (1, 115)\n",
    "print(f\"Input: chords_str: {chords_str}\")\n",
    "print('\\n')\n",
    "print(f\"Output: predicted_labels: {predicted_labels}\")"
   ]
  },
  {
   "cell_type": "code",
   "execution_count": null,
   "metadata": {},
   "outputs": [],
   "source": [
    "label_list = list(predicted_labels)[0]\n",
    "change_point = []\n",
    "for i in range(len(label_list)-1):\n",
    "    if label_list[i] != label_list[i+1]: change_point.append(i)\n",
    "\n",
    "end_time = [chords[cp][1] for cp in change_point]\n",
    "print(f\"end_time: {end_time}\")"
   ]
  },
  {
   "cell_type": "code",
   "execution_count": null,
   "metadata": {},
   "outputs": [],
   "source": []
  },
  {
   "cell_type": "code",
   "execution_count": null,
   "metadata": {},
   "outputs": [],
   "source": [
    "from sklearn.preprocessing import OneHotEncoder\n",
    "predicted_indices = torch.argmax(predictions[1], dim=-1)\n",
    "\n",
    "# 将这些索引转换成独热编码格式\n",
    "predicted_onehot = torch.zeros_like(predictions[1]).scatter_(-1, predicted_indices.unsqueeze(-1), 1)\n",
    "\n",
    "# 转换为numpy数组\n",
    "predicted_onehot = predicted_onehot.cpu().numpy()\n",
    "\n",
    "# 使用inverse_transform将独热编码转换回原始标签\n",
    "label_encoder = \n",
    "predicted_labels = label_encoder.inverse_transform(predicted_onehot)\n",
    "\n",
    "print(f\"Predicted labels: {predicted_labels}\")"
   ]
  },
  {
   "cell_type": "code",
   "execution_count": null,
   "metadata": {},
   "outputs": [],
   "source": []
  },
  {
   "cell_type": "code",
   "execution_count": null,
   "metadata": {},
   "outputs": [],
   "source": []
  }
 ],
 "metadata": {
  "kernelspec": {
   "display_name": "Python 3",
   "language": "python",
   "name": "python3"
  },
  "language_info": {
   "codemirror_mode": {
    "name": "ipython",
    "version": 3
   },
   "file_extension": ".py",
   "mimetype": "text/x-python",
   "name": "python",
   "nbconvert_exporter": "python",
   "pygments_lexer": "ipython3",
   "version": "3.11.6"
  }
 },
 "nbformat": 4,
 "nbformat_minor": 2
}
