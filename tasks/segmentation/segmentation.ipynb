{
 "cells": [
  {
   "cell_type": "markdown",
   "metadata": {},
   "source": [
    "## Import"
   ]
  },
  {
   "cell_type": "code",
   "execution_count": 1,
   "metadata": {},
   "outputs": [
    {
     "name": "stderr",
     "output_type": "stream",
     "text": [
      "Global seed set to 42\n"
     ]
    },
    {
     "name": "stdout",
     "output_type": "stream",
     "text": [
      "done\n"
     ]
    }
   ],
   "source": [
    "import pytorch_lightning as pl\n",
    "import sys \n",
    "sys.path.append('/app/')\n",
    "RANDOM_SEED = 42\n",
    "pl.seed_everything(seed=RANDOM_SEED)\n",
    "print(\"done\")"
   ]
  },
  {
   "cell_type": "markdown",
   "metadata": {},
   "source": [
    "# Segmentation baseline\n",
    "\n",
    "### The LSTM can be replaced by Transformer"
   ]
  },
  {
   "cell_type": "code",
   "execution_count": 2,
   "metadata": {},
   "outputs": [
    {
     "name": "stdout",
     "output_type": "stream",
     "text": [
      "done\n"
     ]
    }
   ],
   "source": [
    "import logging\n",
    "logging.disable(logging.CRITICAL)\n",
    "\n",
    "exp_args = {\n",
    "    \"encoder\": \"root-interval\",\n",
    "    \"embedding_model\": \"fasttext\",\n",
    "    \"embedding_model_path\": \"/app/out/root_interval_best/root-interval-fasttext-with-Processed-ChoCo.ckpt\"\n",
    "}\n",
    "\n",
    "segmentation_train_args = {\n",
    "    \"seed\": 42,\n",
    "    \"test_mode\" : False, # If test_mode = true, then we use 3 track for test\n",
    "    \"full_chord\": False,\n",
    "    \"disable_wandb\" : False,\n",
    "    \"num_labels\" : 11,\n",
    "    # \"embedding_dim\" : None,  # Default as None，will use p2v.vector_size\n",
    "    \"hidden_size\" : 100,\n",
    "    \"num_layers\" : 5,\n",
    "    \"dropout\" : 0.5,\n",
    "    \"learning_rate\" : 0.001,\n",
    "    \"batch_size\": 128,\n",
    "    \"max_epochs\": 150,\n",
    "    \"factor\": 0.5,\n",
    "    \"patience\": 5,\n",
    "\n",
    "    \"wandb_run_name\" : \"test_run\",\n",
    "    \"out\": \"/app/segmentation_out\",\n",
    "\n",
    "}\n",
    "print(\"done\")"
   ]
  },
  {
   "cell_type": "code",
   "execution_count": 3,
   "metadata": {},
   "outputs": [
    {
     "name": "stdout",
     "output_type": "stream",
     "text": [
      "python /app/tasks/segmentation/segmentation_train.py --encoder root-interval --embedding_model fasttext --embedding_model_path /app/out/root_interval_best/root-interval-fasttext-with-Processed-ChoCo.ckpt --seed 42 --test_mode False --full_chord False --disable_wandb False --num_labels 11 --hidden_size 100 --num_layers 5 --dropout 0.5 --learning_rate 0.001 --batch_size 128 --max_epochs 1 --factor 0.5 --patience 5 --wandb_run_name test_run --out /app/segmentation_out\n",
      "done!\n"
     ]
    }
   ],
   "source": [
    "# Auto generate a Linux command\n",
    "command_parts = [\"python /app/tasks/segmentation/segmentation_train.py\"]\n",
    "\n",
    "for arg, value in exp_args.items():\n",
    "    command_parts.append(f\"--{arg} {value}\")\n",
    "\n",
    "for arg, value in segmentation_train_args.items():\n",
    "    command_parts.append(f\"--{arg} {value}\")\n",
    "\n",
    "command = \" \".join(command_parts)\n",
    "print(command)\n",
    "\n",
    "print(\"done!\")"
   ]
  },
  {
   "cell_type": "code",
   "execution_count": 4,
   "metadata": {},
   "outputs": [
    {
     "name": "stdout",
     "output_type": "stream",
     "text": [
      "\u001b[34m\u001b[1mwandb\u001b[0m: Currently logged in as: \u001b[33mcretaceousmart\u001b[0m. Use \u001b[1m`wandb login --relogin`\u001b[0m to force relogin\n",
      "\u001b[34m\u001b[1mwandb\u001b[0m: wandb version 0.16.0 is available!  To upgrade, please run:\n",
      "\u001b[34m\u001b[1mwandb\u001b[0m:  $ pip install wandb --upgrade\n",
      "\u001b[34m\u001b[1mwandb\u001b[0m: Tracking run with wandb version 0.15.12\n",
      "\u001b[34m\u001b[1mwandb\u001b[0m: Run data is saved locally in \u001b[35m\u001b[1m/app/tasks/segmentation/wandb/run-20231109_223646-w1nbdjti\u001b[0m\n",
      "\u001b[34m\u001b[1mwandb\u001b[0m: Run \u001b[1m`wandb offline`\u001b[0m to turn off syncing.\n",
      "\u001b[34m\u001b[1mwandb\u001b[0m: Syncing run \u001b[33mtest_run\u001b[0m\n",
      "\u001b[34m\u001b[1mwandb\u001b[0m: ⭐️ View project at \u001b[34m\u001b[4mhttps://wandb.ai/cretaceousmart/pitchclass2vec_Segmentation\u001b[0m\n",
      "\u001b[34m\u001b[1mwandb\u001b[0m: 🚀 View run at \u001b[34m\u001b[4mhttps://wandb.ai/cretaceousmart/pitchclass2vec_Segmentation/runs/w1nbdjti\u001b[0m\n",
      " 68%|███████████████████████████▏            | 605/890 [00:00<00:00, 865.53it/s]Track 974 not parsable\n",
      "100%|████████████████████████████████████████| 890/890 [00:01<00:00, 859.22it/s]\n",
      "/usr/local/lib/python3.9/dist-packages/pytorch_lightning/callbacks/model_checkpoint.py:604: UserWarning: Checkpoint directory /app/segmentation_out exists and is not empty.\n",
      "  rank_zero_warn(f\"Checkpoint directory {dirpath} exists and is not empty.\")\n",
      "/usr/local/lib/python3.9/dist-packages/pytorch_lightning/trainer/trainer.py:1595: PossibleUserWarning: The number of training batches (5) is smaller than the logging interval Trainer(log_every_n_steps=50). Set a lower value for log_every_n_steps if you want to see logs for the training epoch.\n",
      "  rank_zero_warn(\n",
      "Epoch 0:  83%|████████████▌  | 5/6 [00:01<00:00,  2.53it/s, loss=0.294, v_num=8]\n",
      "Validation: 0it [00:00, ?it/s]\u001b[A\n",
      "Validation:   0%|                                         | 0/1 [00:00<?, ?it/s]\u001b[A\n",
      "Validation DataLoader 0:   0%|                            | 0/1 [00:00<?, ?it/s]\u001b[A\n",
      "Epoch 0: 100%|███████████████| 6/6 [00:02<00:00,  2.06it/s, loss=0.294, v_num=8]\u001b[A\n",
      "Epoch 0: 100%|███████████████| 6/6 [00:02<00:00,  2.00it/s, loss=0.294, v_num=8]\u001b[A\n",
      "\u001b[34m\u001b[1mwandb\u001b[0m: \u001b[33mWARNING\u001b[0m Saving files without folders. If you want to preserve sub directories pass base_path to wandb.save, i.e. wandb.save(\"/mnt/folder/file.h5\", base_path=\"/mnt\")\n",
      " 68%|███████████████████████████▏            | 606/890 [00:00<00:00, 849.15it/s]Track 974 not parsable\n",
      "100%|████████████████████████████████████████| 890/890 [00:01<00:00, 855.56it/s]\n",
      "Testing DataLoader 0: 100%|███████████████████████| 2/2 [00:02<00:00,  1.01s/it]\n",
      "────────────────────────────────────────────────────────────────────────────────\n",
      "       Test metric             DataLoader 0\n",
      "────────────────────────────────────────────────────────────────────────────────\n",
      "        test/loss           0.2678038477897644\n",
      "        test_over                   0.0\n",
      "        test_p_f1           0.5146265020003193\n",
      "    test_p_precision        0.36021110956939684\n",
      "      test_p_recall                 1.0\n",
      "       test_under           0.08810479545193768\n",
      "   test_under_over_f1               0.0\n",
      "────────────────────────────────────────────────────────────────────────────────\n",
      "/app/tasks/segmentation/segmentation_train.py:132: FutureWarning: The behavior of DataFrame concatenation with empty or all-NA entries is deprecated. In a future version, this will no longer exclude empty or all-NA columns when determining the result dtypes. To retain the old behavior, exclude the relevant entries before the concat operation.\n",
      "  experiments_df = pd.concat([experiments_df, new_row_df], ignore_index=True)\n",
      "        encoding  ... test/loss\n",
      "0  root-interval  ...  0.267804\n",
      "\n",
      "[1 rows x 12 columns]\n",
      "\u001b[34m\u001b[1mwandb\u001b[0m: Waiting for W&B process to finish... \u001b[32m(success).\u001b[0m\n",
      "\u001b[34m\u001b[1mwandb\u001b[0m: | 0.012 MB of 0.012 MB uploaded (0.000 MB deduped)\n",
      "\u001b[34m\u001b[1mwandb\u001b[0m: Run history:\n",
      "\u001b[34m\u001b[1mwandb\u001b[0m:  test/loss ▁█\n",
      "\u001b[34m\u001b[1mwandb\u001b[0m: train/loss █▇▆▄▁\n",
      "\u001b[34m\u001b[1mwandb\u001b[0m:   val/loss █▁\n",
      "\u001b[34m\u001b[1mwandb\u001b[0m: \n",
      "\u001b[34m\u001b[1mwandb\u001b[0m: Run summary:\n",
      "\u001b[34m\u001b[1mwandb\u001b[0m:  test/loss 0.27063\n",
      "\u001b[34m\u001b[1mwandb\u001b[0m: train/loss 0.28051\n",
      "\u001b[34m\u001b[1mwandb\u001b[0m:   val/loss 0.26895\n",
      "\u001b[34m\u001b[1mwandb\u001b[0m: \n",
      "\u001b[34m\u001b[1mwandb\u001b[0m: 🚀 View run \u001b[33mtest_run\u001b[0m at: \u001b[34m\u001b[4mhttps://wandb.ai/cretaceousmart/pitchclass2vec_Segmentation/runs/w1nbdjti\u001b[0m\n",
      "\u001b[34m\u001b[1mwandb\u001b[0m: ️⚡ View job at \u001b[34m\u001b[4mhttps://wandb.ai/cretaceousmart/pitchclass2vec_Segmentation/jobs/QXJ0aWZhY3RDb2xsZWN0aW9uOjExNDM1MTQ0Ng==/version_details/v3\u001b[0m\n",
      "\u001b[34m\u001b[1mwandb\u001b[0m: Synced 5 W&B file(s), 0 media file(s), 0 artifact file(s) and 0 other file(s)\n",
      "\u001b[34m\u001b[1mwandb\u001b[0m: Find logs at: \u001b[35m\u001b[1m./wandb/run-20231109_223646-w1nbdjti/logs\u001b[0m\n",
      "done!\n"
     ]
    }
   ],
   "source": [
    "# Excecute the Linux command\n",
    "!{command}\n",
    "print(\"done!\")"
   ]
  }
 ],
 "metadata": {
  "interpreter": {
   "hash": "1a065321f2d93fd20f60a317fd78c7406ef3cd4260c4249e728d2806e6b26b96"
  },
  "kernelspec": {
   "display_name": "Python 3 (ipykernel)",
   "language": "python",
   "name": "python3"
  },
  "language_info": {
   "codemirror_mode": {
    "name": "ipython",
    "version": 3
   },
   "file_extension": ".py",
   "mimetype": "text/x-python",
   "name": "python",
   "nbconvert_exporter": "python",
   "pygments_lexer": "ipython3",
   "version": "3.9.5"
  }
 },
 "nbformat": 4,
 "nbformat_minor": 4
}
